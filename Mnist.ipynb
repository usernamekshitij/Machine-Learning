{
  "nbformat": 4,
  "nbformat_minor": 0,
  "metadata": {
    "colab": {
      "name": "Mnist.ipynb",
      "provenance": [],
      "collapsed_sections": []
    },
    "kernelspec": {
      "name": "python3",
      "display_name": "Python 3"
    },
    "accelerator": "GPU"
  },
  "cells": [
    {
      "cell_type": "code",
      "metadata": {
        "id": "tNv3k1GTNpPA",
        "colab_type": "code",
        "colab": {}
      },
      "source": [
        "%tensorflow_version 1.x\n"
      ],
      "execution_count": 0,
      "outputs": []
    },
    {
      "cell_type": "code",
      "metadata": {
        "id": "ylSJOpEQNwtq",
        "colab_type": "code",
        "colab": {}
      },
      "source": [
        "import tensorflow as tf\n",
        "import numpy as np\n",
        "import cv2\n",
        "import matplotlib.pyplot as plt\n"
      ],
      "execution_count": 0,
      "outputs": []
    },
    {
      "cell_type": "code",
      "metadata": {
        "id": "-uB0tpM0OBrZ",
        "colab_type": "code",
        "outputId": "dd04e176-4053-4ebd-d25a-4ac1824dba04",
        "colab": {
          "base_uri": "https://localhost:8080/",
          "height": 85
        }
      },
      "source": [
        "from tensorflow.examples.tutorials.mnist import input_data\n",
        "mnist_data=input_data.read_data_sets(\"./data\",one_hot=True)"
      ],
      "execution_count": 0,
      "outputs": [
        {
          "output_type": "stream",
          "text": [
            "Extracting ./data/train-images-idx3-ubyte.gz\n",
            "Extracting ./data/train-labels-idx1-ubyte.gz\n",
            "Extracting ./data/t10k-images-idx3-ubyte.gz\n",
            "Extracting ./data/t10k-labels-idx1-ubyte.gz\n"
          ],
          "name": "stdout"
        }
      ]
    },
    {
      "cell_type": "code",
      "metadata": {
        "id": "R4nNYcfqOnq3",
        "colab_type": "code",
        "colab": {}
      },
      "source": [
        "num_training=mnist_data.train.num_examples\n",
        "num_testing=mnist_data.test.num_examples\n",
        "num_validation=mnist_data.validation.num_examples"
      ],
      "execution_count": 0,
      "outputs": []
    },
    {
      "cell_type": "code",
      "metadata": {
        "id": "jDSF0rYRcqeJ",
        "colab_type": "code",
        "outputId": "96b9afaf-0fed-495b-c846-99919ee72c95",
        "colab": {
          "base_uri": "https://localhost:8080/",
          "height": 34
        }
      },
      "source": [
        "print(num_training)"
      ],
      "execution_count": 0,
      "outputs": [
        {
          "output_type": "stream",
          "text": [
            "55000\n"
          ],
          "name": "stdout"
        }
      ]
    },
    {
      "cell_type": "code",
      "metadata": {
        "id": "TQgDRFakQIQG",
        "colab_type": "code",
        "colab": {}
      },
      "source": [
        "n_input=784\n",
        "n_hidden1=512\n",
        "n_hidden2=256\n",
        "n_hidden3=128\n",
        "n_output=10\n"
      ],
      "execution_count": 0,
      "outputs": []
    },
    {
      "cell_type": "code",
      "metadata": {
        "id": "UOHkRgecStY4",
        "colab_type": "code",
        "colab": {}
      },
      "source": [
        "learning_rate=0.01\n",
        "epochs=300\n",
        "batch_size=128\n",
        "keep_prob=tf.placeholder(tf.float32)"
      ],
      "execution_count": 0,
      "outputs": []
    },
    {
      "cell_type": "code",
      "metadata": {
        "id": "iNpCt1_nTHw-",
        "colab_type": "code",
        "colab": {}
      },
      "source": [
        "X=tf.placeholder(tf.float32,shape=(None,n_input))\n",
        "y=tf.placeholder(tf.float32,shape=(None,n_output))"
      ],
      "execution_count": 0,
      "outputs": []
    },
    {
      "cell_type": "code",
      "metadata": {
        "id": "tpMCmpFdTa96",
        "colab_type": "code",
        "colab": {}
      },
      "source": [
        "nn_weight={'W1':tf.Variable(tf.truncated_normal([n_input,n_hidden1],stddev=0.1),tf.float32),\n",
        "            'W2':tf.Variable(tf.truncated_normal([n_hidden1,n_hidden2],stddev=0.1)),\n",
        "            'W3':tf.Variable(tf.truncated_normal([n_hidden2,n_hidden3],stddev=0.1)),\n",
        "            'Wout':tf.Variable(tf.truncated_normal([n_hidden3,n_output],stddev=0.1))\n",
        "}\n",
        "\n",
        "nn_bias={'B1':tf.Variable(tf.truncated_normal([n_hidden1]),tf.float32),\n",
        "            'B2':tf.Variable(tf.truncated_normal([n_hidden2])),\n",
        "            'B3':tf.Variable(tf.truncated_normal([n_hidden3])),\n",
        "            'B4':tf.Variable(tf.truncated_normal([n_output]))\n",
        "}\n",
        "\n"
      ],
      "execution_count": 0,
      "outputs": []
    },
    {
      "cell_type": "code",
      "metadata": {
        "id": "tEY6Lo7EVhk9",
        "colab_type": "code",
        "colab": {}
      },
      "source": [
        "nn_layer1=tf.add(tf.matmul(X,nn_weight[\"W1\"]),nn_bias['B1'])\n",
        "nn_layer2=tf.add(tf.matmul(nn_layer1,nn_weight[\"W2\"]),nn_bias['B2'])\n",
        "nn_layer3=tf.add(tf.matmul(nn_layer2,nn_weight[\"W3\"]),nn_bias['B3'])\n",
        "layer_drop=tf.nn.dropout(nn_layer3,keep_prob)\n",
        "output_layer=tf.add(tf.matmul(layer_drop,nn_weight[\"Wout\"]),nn_bias[\"B4\"])"
      ],
      "execution_count": 0,
      "outputs": []
    },
    {
      "cell_type": "code",
      "metadata": {
        "id": "VN3aBtL1W3S5",
        "colab_type": "code",
        "colab": {}
      },
      "source": [
        "with tf.name_scope(\"loss\"):\n",
        "  xentropy=tf.nn.softmax_cross_entropy_with_logits_v2(logits=output_layer,labels=y)\n",
        "  loss=tf.reduce_mean(xentropy,name='loss')"
      ],
      "execution_count": 0,
      "outputs": []
    },
    {
      "cell_type": "code",
      "metadata": {
        "id": "_1plwESLZZyt",
        "colab_type": "code",
        "colab": {}
      },
      "source": [
        "training_op=tf.train.GradientDescentOptimizer(learning_rate=learning_rate)\n",
        "optimizer=training_op.minimize(loss)"
      ],
      "execution_count": 0,
      "outputs": []
    },
    {
      "cell_type": "code",
      "metadata": {
        "id": "7XswAf_3ayLs",
        "colab_type": "code",
        "colab": {}
      },
      "source": [
        "prediction_out=tf.equal(tf.argmax(output_layer,1),tf.argmax(y,1))\n",
        "\n",
        "nn_accuracy=tf.reduce_mean(tf.cast(prediction_out,tf.float32))"
      ],
      "execution_count": 0,
      "outputs": []
    },
    {
      "cell_type": "code",
      "metadata": {
        "id": "atdwojyxbpph",
        "colab_type": "code",
        "colab": {}
      },
      "source": [
        "init=tf.global_variables_initializer()\n",
        "saver=tf.train.Saver()"
      ],
      "execution_count": 0,
      "outputs": []
    },
    {
      "cell_type": "code",
      "metadata": {
        "id": "E_bVX4cScHUG",
        "colab_type": "code",
        "colab": {}
      },
      "source": [
        ""
      ],
      "execution_count": 0,
      "outputs": []
    },
    {
      "cell_type": "code",
      "metadata": {
        "id": "17aBOtkpbzUH",
        "colab_type": "code",
        "outputId": "8b53b2ed-2f59-45ae-d628-4f7f151c4b71",
        "colab": {
          "base_uri": "https://localhost:8080/",
          "height": 207
        }
      },
      "source": [
        "#EXECUTION\n",
        "\n",
        "with tf.Session() as sess:\n",
        "  sess.run(init)\n",
        "\n",
        "  for epoch in range(epochs):\n",
        "        mini_batch_x,mini_batch_y=mnist_data.train.next_batch(batch_size)\n",
        "        mini_batch_xval,mini_batch_yval=mnist_data.validation.next_batch(batch_size)\n",
        "\n",
        "        sess.run(optimizer,feed_dict={X:mini_batch_x,y:mini_batch_y,keep_prob:1})\n",
        "        \n",
        "        if epoch%100==0:\n",
        "          mini_batch_loss,mini_batch_accuracy=sess.run([loss,nn_accuracy],feed_dict={X:mini_batch_x,y:mini_batch_y,keep_prob:1})\n",
        "          mini_batch_val_loss,mini_batch_val_accuracy=sess.run([loss,nn_accuracy],feed_dict={X:mini_batch_xval,y:mini_batch_yval,keep_prob:1})\n",
        "\n",
        "          print(\"Iteration:\",epoch, \"Batch accuracy:\", mini_batch_accuracy, \"Val accuracy:\", mini_batch_val_accuracy)\n",
        "          \n",
        "  test_accuracy=sess.run(nn_accuracy,feed_dict={X:mnist_data.test.images,y:mnist_data.test.labels,keep_prob:1})\n",
        "  print(test_accuracy)\n",
        "  save_path=saver.save(sess,\"./model/my_model.ckpt\")\n",
        "  "
      ],
      "execution_count": 0,
      "outputs": [
        {
          "output_type": "stream",
          "text": [
            "Iteration: 0 Batch accuracy: 0.140625 Val accuracy: 0.1171875\n",
            "Iteration: 100 Batch accuracy: 0.890625 Val accuracy: 0.8359375\n",
            "Iteration: 200 Batch accuracy: 0.875 Val accuracy: 0.8828125\n",
            "0.8829\n",
            "WARNING:tensorflow:Issue encountered when serializing variables.\n",
            "Type is unsupported, or the types of the items don't match field type in CollectionDef. Note this is a warning and probably safe to ignore.\n",
            "tf.float32 has type DType, but expected one of: int, long, bool\n",
            "WARNING:tensorflow:Issue encountered when serializing trainable_variables.\n",
            "Type is unsupported, or the types of the items don't match field type in CollectionDef. Note this is a warning and probably safe to ignore.\n",
            "tf.float32 has type DType, but expected one of: int, long, bool\n"
          ],
          "name": "stdout"
        }
      ]
    },
    {
      "cell_type": "code",
      "metadata": {
        "id": "DlP8Wn0ekdeA",
        "colab_type": "code",
        "outputId": "bb50cc36-05f4-40f6-930c-ecc5a9edcd1e",
        "colab": {
          "base_uri": "https://localhost:8080/",
          "height": 282
        }
      },
      "source": [
        "img=cv2.imread(\"8.jpg\")\n",
        "gray_image=cv2.cvtColor(img,cv2.COLOR_BGR2GRAY)\n",
        "\n",
        "rescaled_image=cv2.resize(gray_image,(28,28))\n",
        "plt.imshow(rescaled_image,cmap='gray')\n",
        "plt.show()\n",
        "\n",
        "rescaled_image.shape\n"
      ],
      "execution_count": 0,
      "outputs": [
        {
          "output_type": "display_data",
          "data": {
            "image/png": "[encoded data removed]",
            "text/plain": [
              "<Figure size 432x288 with 1 Axes>"
            ]
          },
          "metadata": {
            "tags": [],
            "needs_background": "light"
          }
        },
        {
          "output_type": "execute_result",
          "data": {
            "text/plain": [
              "(28, 28)"
            ]
          },
          "metadata": {
            "tags": []
          },
          "execution_count": 70
        }
      ]
    },
    {
      "cell_type": "code",
      "metadata": {
        "id": "b7AI94nYhG5m",
        "colab_type": "code",
        "outputId": "3b279147-94ba-480f-c0ac-b5e387626e9d",
        "colab": {
          "base_uri": "https://localhost:8080/",
          "height": 34
        }
      },
      "source": [
        "dum=rescaled_image.reshape(1,-1)/255\n",
        "dum.shape\n"
      ],
      "execution_count": 0,
      "outputs": [
        {
          "output_type": "execute_result",
          "data": {
            "text/plain": [
              "(1, 784)"
            ]
          },
          "metadata": {
            "tags": []
          },
          "execution_count": 71
        }
      ]
    },
    {
      "cell_type": "code",
      "metadata": {
        "id": "B4NXymDIAPQU",
        "colab_type": "code",
        "outputId": "4fecf81e-889f-4023-9626-3a2e0462ad19",
        "colab": {
          "base_uri": "https://localhost:8080/",
          "height": 51
        }
      },
      "source": [
        "with tf.Session() as sess:\n",
        "  saver.restore(sess,\"./model/my_model.ckpt\")\n",
        "  Z=output_layer.eval(feed_dict={X:dum,keep_prob:1.0})\n",
        "  y_pred=np.argmax(Z,axis=1)\n",
        "  print(y_pred)"
      ],
      "execution_count": 0,
      "outputs": [
        {
          "output_type": "stream",
          "text": [
            "INFO:tensorflow:Restoring parameters from ./model/my_model.ckpt\n",
            "[8]\n"
          ],
          "name": "stdout"
        }
      ]
    },
    {
      "cell_type": "code",
      "metadata": {
        "id": "GMjtwm-iAnDh",
        "colab_type": "code",
        "colab": {}
      },
      "source": [
        ""
      ],
      "execution_count": 0,
      "outputs": []
    }
  ]
}