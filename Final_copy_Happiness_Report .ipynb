{
  "nbformat": 4,
  "nbformat_minor": 0,
  "metadata": {
    "colab": {
      "name": "Happiness Report.ipynb",
      "provenance": [],
      "collapsed_sections": []
    },
    "kernelspec": {
      "name": "python3",
      "display_name": "Python 3"
    }
  },
  "cells": [
    {
      "cell_type": "markdown",
      "metadata": {
        "id": "hnZVE7gF3jFX",
        "colab_type": "text"
      },
      "source": [
        "All the **imports** **bold text**"
      ]
    },
    {
      "cell_type": "code",
      "metadata": {
        "id": "pkj_tckS35dn",
        "colab_type": "code",
        "colab": {}
      },
      "source": [
        "import numpy as np\n",
        "import pandas as pd\n",
        "import matplotlib.pyplot as plt\n",
        "import sklearn"
      ],
      "execution_count": 0,
      "outputs": []
    },
    {
      "cell_type": "code",
      "metadata": {
        "id": "CxtmzzMV4IGQ",
        "colab_type": "code",
        "colab": {}
      },
      "source": [
        "data2015=pd.read_csv('2015.csv')\n",
        "data2016=pd.read_csv('2016.csv')\n",
        "data2017=pd.read_csv('2017.csv')\n"
      ],
      "execution_count": 0,
      "outputs": []
    },
    {
      "cell_type": "code",
      "metadata": {
        "id": "KH4P02F35DP9",
        "colab_type": "code",
        "outputId": "a8121b00-7b30-4afd-c031-2d7908aa6656",
        "colab": {
          "base_uri": "https://localhost:8080/",
          "height": 357
        }
      },
      "source": [
        "data2015.info()\n",
        "type(data2015)"
      ],
      "execution_count": 52,
      "outputs": [
        {
          "output_type": "stream",
          "text": [
            "<class 'pandas.core.frame.DataFrame'>\n",
            "RangeIndex: 158 entries, 0 to 157\n",
            "Data columns (total 12 columns):\n",
            " #   Column                         Non-Null Count  Dtype  \n",
            "---  ------                         --------------  -----  \n",
            " 0   Country                        158 non-null    object \n",
            " 1   Region                         158 non-null    object \n",
            " 2   Happiness Rank                 158 non-null    int64  \n",
            " 3   Happiness Score                158 non-null    float64\n",
            " 4   Standard Error                 158 non-null    float64\n",
            " 5   Economy (GDP per Capita)       158 non-null    float64\n",
            " 6   Family                         158 non-null    float64\n",
            " 7   Health (Life Expectancy)       158 non-null    float64\n",
            " 8   Freedom                        158 non-null    float64\n",
            " 9   Trust (Government Corruption)  158 non-null    float64\n",
            " 10  Generosity                     158 non-null    float64\n",
            " 11  Dystopia Residual              158 non-null    float64\n",
            "dtypes: float64(9), int64(1), object(2)\n",
            "memory usage: 14.9+ KB\n"
          ],
          "name": "stdout"
        },
        {
          "output_type": "execute_result",
          "data": {
            "text/plain": [
              "pandas.core.frame.DataFrame"
            ]
          },
          "metadata": {
            "tags": []
          },
          "execution_count": 52
        }
      ]
    },
    {
      "cell_type": "code",
      "metadata": {
        "id": "ByPY_7uS5Mij",
        "colab_type": "code",
        "outputId": "d9006a76-2536-4484-d84e-8356f8f34203",
        "colab": {
          "base_uri": "https://localhost:8080/",
          "height": 357
        }
      },
      "source": [
        "data2016.info()"
      ],
      "execution_count": 53,
      "outputs": [
        {
          "output_type": "stream",
          "text": [
            "<class 'pandas.core.frame.DataFrame'>\n",
            "RangeIndex: 157 entries, 0 to 156\n",
            "Data columns (total 13 columns):\n",
            " #   Column                         Non-Null Count  Dtype  \n",
            "---  ------                         --------------  -----  \n",
            " 0   Country                        157 non-null    object \n",
            " 1   Region                         157 non-null    object \n",
            " 2   Happiness Rank                 157 non-null    int64  \n",
            " 3   Happiness Score                157 non-null    float64\n",
            " 4   Lower Confidence Interval      157 non-null    float64\n",
            " 5   Upper Confidence Interval      157 non-null    float64\n",
            " 6   Economy (GDP per Capita)       157 non-null    float64\n",
            " 7   Family                         157 non-null    float64\n",
            " 8   Health (Life Expectancy)       157 non-null    float64\n",
            " 9   Freedom                        157 non-null    float64\n",
            " 10  Trust (Government Corruption)  157 non-null    float64\n",
            " 11  Generosity                     157 non-null    float64\n",
            " 12  Dystopia Residual              157 non-null    float64\n",
            "dtypes: float64(10), int64(1), object(2)\n",
            "memory usage: 16.1+ KB\n"
          ],
          "name": "stdout"
        }
      ]
    },
    {
      "cell_type": "code",
      "metadata": {
        "id": "P_GgLbKJ5UK1",
        "colab_type": "code",
        "outputId": "36ce0e07-eccb-403a-ae45-148d6bf0a556",
        "colab": {
          "base_uri": "https://localhost:8080/",
          "height": 340
        }
      },
      "source": [
        "data2017.info()"
      ],
      "execution_count": 54,
      "outputs": [
        {
          "output_type": "stream",
          "text": [
            "<class 'pandas.core.frame.DataFrame'>\n",
            "RangeIndex: 155 entries, 0 to 154\n",
            "Data columns (total 12 columns):\n",
            " #   Column                         Non-Null Count  Dtype  \n",
            "---  ------                         --------------  -----  \n",
            " 0   Country                        155 non-null    object \n",
            " 1   Happiness.Rank                 155 non-null    int64  \n",
            " 2   Happiness.Score                155 non-null    float64\n",
            " 3   Whisker.high                   155 non-null    float64\n",
            " 4   Whisker.low                    155 non-null    float64\n",
            " 5   Economy..GDP.per.Capita.       155 non-null    float64\n",
            " 6   Family                         155 non-null    float64\n",
            " 7   Health..Life.Expectancy.       155 non-null    float64\n",
            " 8   Freedom                        155 non-null    float64\n",
            " 9   Generosity                     155 non-null    float64\n",
            " 10  Trust..Government.Corruption.  155 non-null    float64\n",
            " 11  Dystopia.Residual              155 non-null    float64\n",
            "dtypes: float64(10), int64(1), object(1)\n",
            "memory usage: 14.7+ KB\n"
          ],
          "name": "stdout"
        }
      ]
    },
    {
      "cell_type": "code",
      "metadata": {
        "id": "-iUNxdiJ5Vj8",
        "colab_type": "code",
        "outputId": "557c1d0d-bf91-49b9-8a53-eef2de963d4a",
        "colab": {
          "base_uri": "https://localhost:8080/",
          "height": 102
        }
      },
      "source": [
        "ar1=data2015.columns\n",
        "data2015.columns"
      ],
      "execution_count": 55,
      "outputs": [
        {
          "output_type": "execute_result",
          "data": {
            "text/plain": [
              "Index(['Country', 'Region', 'Happiness Rank', 'Happiness Score',\n",
              "       'Standard Error', 'Economy (GDP per Capita)', 'Family',\n",
              "       'Health (Life Expectancy)', 'Freedom', 'Trust (Government Corruption)',\n",
              "       'Generosity', 'Dystopia Residual'],\n",
              "      dtype='object')"
            ]
          },
          "metadata": {
            "tags": []
          },
          "execution_count": 55
        }
      ]
    },
    {
      "cell_type": "code",
      "metadata": {
        "id": "1xg8TPEi5apF",
        "colab_type": "code",
        "outputId": "b138a76b-47a2-40f1-8f3e-6ef3b04b5a52",
        "colab": {
          "base_uri": "https://localhost:8080/",
          "height": 119
        }
      },
      "source": [
        "ar2=data2016.columns\n",
        "data2016.columns"
      ],
      "execution_count": 56,
      "outputs": [
        {
          "output_type": "execute_result",
          "data": {
            "text/plain": [
              "Index(['Country', 'Region', 'Happiness Rank', 'Happiness Score',\n",
              "       'Lower Confidence Interval', 'Upper Confidence Interval',\n",
              "       'Economy (GDP per Capita)', 'Family', 'Health (Life Expectancy)',\n",
              "       'Freedom', 'Trust (Government Corruption)', 'Generosity',\n",
              "       'Dystopia Residual'],\n",
              "      dtype='object')"
            ]
          },
          "metadata": {
            "tags": []
          },
          "execution_count": 56
        }
      ]
    },
    {
      "cell_type": "code",
      "metadata": {
        "id": "zPEc_z_F5er-",
        "colab_type": "code",
        "outputId": "dba6cf7f-6ba2-4167-f391-77a585b39fd5",
        "colab": {
          "base_uri": "https://localhost:8080/",
          "height": 102
        }
      },
      "source": [
        "ar3=data2017.columns\n",
        "data2017.columns"
      ],
      "execution_count": 58,
      "outputs": [
        {
          "output_type": "execute_result",
          "data": {
            "text/plain": [
              "Index(['Country', 'Happiness.Rank', 'Happiness.Score', 'Whisker.high',\n",
              "       'Whisker.low', 'Economy..GDP.per.Capita.', 'Family',\n",
              "       'Health..Life.Expectancy.', 'Freedom', 'Generosity',\n",
              "       'Trust..Government.Corruption.', 'Dystopia.Residual'],\n",
              "      dtype='object')"
            ]
          },
          "metadata": {
            "tags": []
          },
          "execution_count": 58
        }
      ]
    },
    {
      "cell_type": "code",
      "metadata": {
        "id": "AeG8o3iX5imI",
        "colab_type": "code",
        "outputId": "c93b643a-81c7-4afc-fa65-9a30f548c19c",
        "colab": {
          "base_uri": "https://localhost:8080/",
          "height": 54
        }
      },
      "source": [
        "set(ar1)-set(ar2)\n",
        "print(set(ar1)-set(ar3))"
      ],
      "execution_count": 59,
      "outputs": [
        {
          "output_type": "stream",
          "text": [
            "{'Trust (Government Corruption)', 'Health (Life Expectancy)', 'Economy (GDP per Capita)', 'Region', 'Dystopia Residual', 'Happiness Score', 'Standard Error', 'Happiness Rank'}\n"
          ],
          "name": "stdout"
        }
      ]
    },
    {
      "cell_type": "code",
      "metadata": {
        "id": "Nl4vcHrn5ycW",
        "colab_type": "code",
        "colab": {}
      },
      "source": [
        "data2017.rename(columns={'Happiness.Rank':'Happiness Rank',\n",
        "                         'Happiness.Score':'Happiness Score',\n",
        "                         'Economy..GDP.per.Capita.':'Economy (GDP per Capita)',\n",
        "                         'Health..Life.Expectancy.':'Health (Life Expectancy)',\n",
        "                         'Trust..Government.Corruption.':'Trust (Government Corruption)',\n",
        "                         'Dystopia.Residual':'Dystopia Residual'},inplace=True)"
      ],
      "execution_count": 0,
      "outputs": []
    },
    {
      "cell_type": "code",
      "metadata": {
        "id": "nP_1L-0Y8K3Z",
        "colab_type": "code",
        "colab": {}
      },
      "source": [
        "data2016['Standard Error']=(data2016['Upper Confidence Interval']-data2016['Lower Confidence Interval'])/2"
      ],
      "execution_count": 0,
      "outputs": []
    },
    {
      "cell_type": "code",
      "metadata": {
        "id": "MVVe-XQ-9cqL",
        "colab_type": "code",
        "outputId": "f352fa7a-3de8-49ed-a0fa-31482a45889f",
        "colab": {
          "base_uri": "https://localhost:8080/",
          "height": 374
        }
      },
      "source": [
        "data2016.info()"
      ],
      "execution_count": 62,
      "outputs": [
        {
          "output_type": "stream",
          "text": [
            "<class 'pandas.core.frame.DataFrame'>\n",
            "RangeIndex: 157 entries, 0 to 156\n",
            "Data columns (total 14 columns):\n",
            " #   Column                         Non-Null Count  Dtype  \n",
            "---  ------                         --------------  -----  \n",
            " 0   Country                        157 non-null    object \n",
            " 1   Region                         157 non-null    object \n",
            " 2   Happiness Rank                 157 non-null    int64  \n",
            " 3   Happiness Score                157 non-null    float64\n",
            " 4   Lower Confidence Interval      157 non-null    float64\n",
            " 5   Upper Confidence Interval      157 non-null    float64\n",
            " 6   Economy (GDP per Capita)       157 non-null    float64\n",
            " 7   Family                         157 non-null    float64\n",
            " 8   Health (Life Expectancy)       157 non-null    float64\n",
            " 9   Freedom                        157 non-null    float64\n",
            " 10  Trust (Government Corruption)  157 non-null    float64\n",
            " 11  Generosity                     157 non-null    float64\n",
            " 12  Dystopia Residual              157 non-null    float64\n",
            " 13  Standard Error                 157 non-null    float64\n",
            "dtypes: float64(11), int64(1), object(2)\n",
            "memory usage: 17.3+ KB\n"
          ],
          "name": "stdout"
        }
      ]
    },
    {
      "cell_type": "code",
      "metadata": {
        "id": "GcOekU9o9u8C",
        "colab_type": "code",
        "outputId": "f777599a-8121-456c-efaa-2919e4d59bae",
        "colab": {
          "base_uri": "https://localhost:8080/",
          "height": 745
        }
      },
      "source": [
        "data2016.drop(columns=['Lower Confidence Interval','Upper Confidence Interval'],axis=1)"
      ],
      "execution_count": 63,
      "outputs": [
        {
          "output_type": "execute_result",
          "data": {
            "text/html": [
              "<div>\n",
              "<style scoped>\n",
              "    .dataframe tbody tr th:only-of-type {\n",
              "        vertical-align: middle;\n",
              "    }\n",
              "\n",
              "    .dataframe tbody tr th {\n",
              "        vertical-align: top;\n",
              "    }\n",
              "\n",
              "    .dataframe thead th {\n",
              "        text-align: right;\n",
              "    }\n",
              "</style>\n",
              "<table border=\"1\" class=\"dataframe\">\n",
              "  <thead>\n",
              "    <tr style=\"text-align: right;\">\n",
              "      <th></th>\n",
              "      <th>Country</th>\n",
              "      <th>Region</th>\n",
              "      <th>Happiness Rank</th>\n",
              "      <th>Happiness Score</th>\n",
              "      <th>Economy (GDP per Capita)</th>\n",
              "      <th>Family</th>\n",
              "      <th>Health (Life Expectancy)</th>\n",
              "      <th>Freedom</th>\n",
              "      <th>Trust (Government Corruption)</th>\n",
              "      <th>Generosity</th>\n",
              "      <th>Dystopia Residual</th>\n",
              "      <th>Standard Error</th>\n",
              "    </tr>\n",
              "  </thead>\n",
              "  <tbody>\n",
              "    <tr>\n",
              "      <th>0</th>\n",
              "      <td>Denmark</td>\n",
              "      <td>Western Europe</td>\n",
              "      <td>1</td>\n",
              "      <td>7.526</td>\n",
              "      <td>1.44178</td>\n",
              "      <td>1.16374</td>\n",
              "      <td>0.79504</td>\n",
              "      <td>0.57941</td>\n",
              "      <td>0.44453</td>\n",
              "      <td>0.36171</td>\n",
              "      <td>2.73939</td>\n",
              "      <td>0.066</td>\n",
              "    </tr>\n",
              "    <tr>\n",
              "      <th>1</th>\n",
              "      <td>Switzerland</td>\n",
              "      <td>Western Europe</td>\n",
              "      <td>2</td>\n",
              "      <td>7.509</td>\n",
              "      <td>1.52733</td>\n",
              "      <td>1.14524</td>\n",
              "      <td>0.86303</td>\n",
              "      <td>0.58557</td>\n",
              "      <td>0.41203</td>\n",
              "      <td>0.28083</td>\n",
              "      <td>2.69463</td>\n",
              "      <td>0.081</td>\n",
              "    </tr>\n",
              "    <tr>\n",
              "      <th>2</th>\n",
              "      <td>Iceland</td>\n",
              "      <td>Western Europe</td>\n",
              "      <td>3</td>\n",
              "      <td>7.501</td>\n",
              "      <td>1.42666</td>\n",
              "      <td>1.18326</td>\n",
              "      <td>0.86733</td>\n",
              "      <td>0.56624</td>\n",
              "      <td>0.14975</td>\n",
              "      <td>0.47678</td>\n",
              "      <td>2.83137</td>\n",
              "      <td>0.168</td>\n",
              "    </tr>\n",
              "    <tr>\n",
              "      <th>3</th>\n",
              "      <td>Norway</td>\n",
              "      <td>Western Europe</td>\n",
              "      <td>4</td>\n",
              "      <td>7.498</td>\n",
              "      <td>1.57744</td>\n",
              "      <td>1.12690</td>\n",
              "      <td>0.79579</td>\n",
              "      <td>0.59609</td>\n",
              "      <td>0.35776</td>\n",
              "      <td>0.37895</td>\n",
              "      <td>2.66465</td>\n",
              "      <td>0.077</td>\n",
              "    </tr>\n",
              "    <tr>\n",
              "      <th>4</th>\n",
              "      <td>Finland</td>\n",
              "      <td>Western Europe</td>\n",
              "      <td>5</td>\n",
              "      <td>7.413</td>\n",
              "      <td>1.40598</td>\n",
              "      <td>1.13464</td>\n",
              "      <td>0.81091</td>\n",
              "      <td>0.57104</td>\n",
              "      <td>0.41004</td>\n",
              "      <td>0.25492</td>\n",
              "      <td>2.82596</td>\n",
              "      <td>0.062</td>\n",
              "    </tr>\n",
              "    <tr>\n",
              "      <th>...</th>\n",
              "      <td>...</td>\n",
              "      <td>...</td>\n",
              "      <td>...</td>\n",
              "      <td>...</td>\n",
              "      <td>...</td>\n",
              "      <td>...</td>\n",
              "      <td>...</td>\n",
              "      <td>...</td>\n",
              "      <td>...</td>\n",
              "      <td>...</td>\n",
              "      <td>...</td>\n",
              "      <td>...</td>\n",
              "    </tr>\n",
              "    <tr>\n",
              "      <th>152</th>\n",
              "      <td>Benin</td>\n",
              "      <td>Sub-Saharan Africa</td>\n",
              "      <td>153</td>\n",
              "      <td>3.484</td>\n",
              "      <td>0.39499</td>\n",
              "      <td>0.10419</td>\n",
              "      <td>0.21028</td>\n",
              "      <td>0.39747</td>\n",
              "      <td>0.06681</td>\n",
              "      <td>0.20180</td>\n",
              "      <td>2.10812</td>\n",
              "      <td>0.080</td>\n",
              "    </tr>\n",
              "    <tr>\n",
              "      <th>153</th>\n",
              "      <td>Afghanistan</td>\n",
              "      <td>Southern Asia</td>\n",
              "      <td>154</td>\n",
              "      <td>3.360</td>\n",
              "      <td>0.38227</td>\n",
              "      <td>0.11037</td>\n",
              "      <td>0.17344</td>\n",
              "      <td>0.16430</td>\n",
              "      <td>0.07112</td>\n",
              "      <td>0.31268</td>\n",
              "      <td>2.14558</td>\n",
              "      <td>0.072</td>\n",
              "    </tr>\n",
              "    <tr>\n",
              "      <th>154</th>\n",
              "      <td>Togo</td>\n",
              "      <td>Sub-Saharan Africa</td>\n",
              "      <td>155</td>\n",
              "      <td>3.303</td>\n",
              "      <td>0.28123</td>\n",
              "      <td>0.00000</td>\n",
              "      <td>0.24811</td>\n",
              "      <td>0.34678</td>\n",
              "      <td>0.11587</td>\n",
              "      <td>0.17517</td>\n",
              "      <td>2.13540</td>\n",
              "      <td>0.111</td>\n",
              "    </tr>\n",
              "    <tr>\n",
              "      <th>155</th>\n",
              "      <td>Syria</td>\n",
              "      <td>Middle East and Northern Africa</td>\n",
              "      <td>156</td>\n",
              "      <td>3.069</td>\n",
              "      <td>0.74719</td>\n",
              "      <td>0.14866</td>\n",
              "      <td>0.62994</td>\n",
              "      <td>0.06912</td>\n",
              "      <td>0.17233</td>\n",
              "      <td>0.48397</td>\n",
              "      <td>0.81789</td>\n",
              "      <td>0.133</td>\n",
              "    </tr>\n",
              "    <tr>\n",
              "      <th>156</th>\n",
              "      <td>Burundi</td>\n",
              "      <td>Sub-Saharan Africa</td>\n",
              "      <td>157</td>\n",
              "      <td>2.905</td>\n",
              "      <td>0.06831</td>\n",
              "      <td>0.23442</td>\n",
              "      <td>0.15747</td>\n",
              "      <td>0.04320</td>\n",
              "      <td>0.09419</td>\n",
              "      <td>0.20290</td>\n",
              "      <td>2.10404</td>\n",
              "      <td>0.173</td>\n",
              "    </tr>\n",
              "  </tbody>\n",
              "</table>\n",
              "<p>157 rows × 12 columns</p>\n",
              "</div>"
            ],
            "text/plain": [
              "         Country  ... Standard Error\n",
              "0        Denmark  ...          0.066\n",
              "1    Switzerland  ...          0.081\n",
              "2        Iceland  ...          0.168\n",
              "3         Norway  ...          0.077\n",
              "4        Finland  ...          0.062\n",
              "..           ...  ...            ...\n",
              "152        Benin  ...          0.080\n",
              "153  Afghanistan  ...          0.072\n",
              "154         Togo  ...          0.111\n",
              "155        Syria  ...          0.133\n",
              "156      Burundi  ...          0.173\n",
              "\n",
              "[157 rows x 12 columns]"
            ]
          },
          "metadata": {
            "tags": []
          },
          "execution_count": 63
        }
      ]
    },
    {
      "cell_type": "markdown",
      "metadata": {
        "id": "eicyAz5pkRzq",
        "colab_type": "text"
      },
      "source": [
        "**Countries with happiness score more than 5**"
      ]
    },
    {
      "cell_type": "code",
      "metadata": {
        "id": "2WPS4w-b-BPI",
        "colab_type": "code",
        "outputId": "fb4d70d7-59bc-4e80-86e7-56845c9609d7",
        "colab": {
          "base_uri": "https://localhost:8080/",
          "height": 238
        }
      },
      "source": [
        "countries=data2015[data2015['Happiness Score']>5.0]['Country']\n",
        "print('Countries with happiness score more than 5')\n",
        "print(countries)"
      ],
      "execution_count": 64,
      "outputs": [
        {
          "output_type": "stream",
          "text": [
            "Countries with happiness score more than 5\n",
            "0           Switzerland\n",
            "1               Iceland\n",
            "2               Denmark\n",
            "3                Norway\n",
            "4                Canada\n",
            "            ...        \n",
            "88               Latvia\n",
            "89          Philippines\n",
            "90    Somaliland region\n",
            "91              Morocco\n",
            "92            Macedonia\n",
            "Name: Country, Length: 93, dtype: object\n"
          ],
          "name": "stdout"
        }
      ]
    },
    {
      "cell_type": "markdown",
      "metadata": {
        "id": "J4HzeQe4kWhb",
        "colab_type": "text"
      },
      "source": [
        "**Unhappiest Country in Sub Saharan Africa Region**"
      ]
    },
    {
      "cell_type": "code",
      "metadata": {
        "id": "zEimFBCR_rza",
        "colab_type": "code",
        "outputId": "a1767e6a-3293-447b-d824-b99c4e0f5aa5",
        "colab": {
          "base_uri": "https://localhost:8080/",
          "height": 255
        }
      },
      "source": [
        "a=data2015[data2015['Region']=='Sub-Saharan Africa']['Happiness Score'].sort_values(ascending=True)\n",
        "a.reset_index()\n",
        "print('Unhappiest Country in Sub Saharan Africa Region')\n",
        "print(data2015.loc[157])\n"
      ],
      "execution_count": 65,
      "outputs": [
        {
          "output_type": "stream",
          "text": [
            "Unhappiest Country in Sub Saharan Africa Region\n",
            "Country                                        Togo\n",
            "Region                           Sub-Saharan Africa\n",
            "Happiness Rank                                  158\n",
            "Happiness Score                               2.839\n",
            "Standard Error                              0.06727\n",
            "Economy (GDP per Capita)                    0.20868\n",
            "Family                                      0.13995\n",
            "Health (Life Expectancy)                    0.28443\n",
            "Freedom                                     0.36453\n",
            "Trust (Government Corruption)               0.10731\n",
            "Generosity                                  0.16681\n",
            "Dystopia Residual                           1.56726\n",
            "Name: 157, dtype: object\n"
          ],
          "name": "stdout"
        }
      ]
    },
    {
      "cell_type": "code",
      "metadata": {
        "id": "0ptGuUYrAQMx",
        "colab_type": "code",
        "colab": {}
      },
      "source": [
        "uni_regions=data2015['Region'].unique()"
      ],
      "execution_count": 0,
      "outputs": []
    },
    {
      "cell_type": "code",
      "metadata": {
        "id": "04VzzGu-FXXT",
        "colab_type": "code",
        "outputId": "cdb4ba1d-d552-4742-96b3-b016c8df20c2",
        "colab": {
          "base_uri": "https://localhost:8080/",
          "height": 85
        }
      },
      "source": [
        "uni_regions"
      ],
      "execution_count": 67,
      "outputs": [
        {
          "output_type": "execute_result",
          "data": {
            "text/plain": [
              "array(['Western Europe', 'North America', 'Australia and New Zealand',\n",
              "       'Middle East and Northern Africa', 'Latin America and Caribbean',\n",
              "       'Southeastern Asia', 'Central and Eastern Europe', 'Eastern Asia',\n",
              "       'Sub-Saharan Africa', 'Southern Asia'], dtype=object)"
            ]
          },
          "metadata": {
            "tags": []
          },
          "execution_count": 67
        }
      ]
    },
    {
      "cell_type": "code",
      "metadata": {
        "id": "_x9Liy7jjZaH",
        "colab_type": "code",
        "outputId": "af0680e7-4c88-4ea4-9540-e2fc9c19a68c",
        "colab": {
          "base_uri": "https://localhost:8080/",
          "height": 272
        }
      },
      "source": [
        "print(\"All the countries Region wise\")\n",
        "print(data2015[['Region','Country']].sort_values(by=['Region']))"
      ],
      "execution_count": 68,
      "outputs": [
        {
          "output_type": "stream",
          "text": [
            "All the countries Region wise\n",
            "                         Region      Country\n",
            "8     Australia and New Zealand  New Zealand\n",
            "9     Australia and New Zealand    Australia\n",
            "63   Central and Eastern Europe       Russia\n",
            "61   Central and Eastern Europe      Croatia\n",
            "129  Central and Eastern Europe      Georgia\n",
            "..                          ...          ...\n",
            "66               Western Europe       Cyprus\n",
            "87               Western Europe     Portugal\n",
            "101              Western Europe       Greece\n",
            "18               Western Europe      Belgium\n",
            "0                Western Europe  Switzerland\n",
            "\n",
            "[158 rows x 2 columns]\n"
          ],
          "name": "stdout"
        }
      ]
    },
    {
      "cell_type": "code",
      "metadata": {
        "id": "vNL_gddEpgBw",
        "colab_type": "code",
        "colab": {}
      },
      "source": [
        "d=data2015.groupby('Region',as_index=False)[['Country','Happiness Score']].max()"
      ],
      "execution_count": 0,
      "outputs": []
    },
    {
      "cell_type": "markdown",
      "metadata": {
        "id": "P3HKuS4pkgzC",
        "colab_type": "text"
      },
      "source": [
        "**Countries with Highest Happiness Score Region wise**"
      ]
    },
    {
      "cell_type": "code",
      "metadata": {
        "id": "I0UVgmYxtYAx",
        "colab_type": "code",
        "outputId": "f11c5534-39a4-4c00-c1ae-a48db58fc22b",
        "colab": {
          "base_uri": "https://localhost:8080/",
          "height": 238
        }
      },
      "source": [
        "print(\"Countries with Highest Happiness Score Region wise\\n\\n\",d)"
      ],
      "execution_count": 70,
      "outputs": [
        {
          "output_type": "stream",
          "text": [
            "Countries with Highest Happiness Score Region wise\n",
            "\n",
            "                             Region         Country  Happiness Score\n",
            "0        Australia and New Zealand     New Zealand            7.286\n",
            "1       Central and Eastern Europe      Uzbekistan            6.505\n",
            "2                     Eastern Asia          Taiwan            6.298\n",
            "3      Latin America and Caribbean       Venezuela            7.226\n",
            "4  Middle East and Northern Africa           Yemen            7.278\n",
            "5                    North America   United States            7.427\n",
            "6                Southeastern Asia         Vietnam            6.798\n",
            "7                    Southern Asia       Sri Lanka            5.253\n",
            "8               Sub-Saharan Africa        Zimbabwe            5.477\n",
            "9                   Western Europe  United Kingdom            7.587\n"
          ],
          "name": "stdout"
        }
      ]
    },
    {
      "cell_type": "code",
      "metadata": {
        "id": "7oqwOh8GwaI0",
        "colab_type": "code",
        "colab": {}
      },
      "source": [
        "e=data2015.groupby('Region',as_index=False)[['Country','Happiness Score']].min()"
      ],
      "execution_count": 0,
      "outputs": []
    },
    {
      "cell_type": "markdown",
      "metadata": {
        "id": "VdvWlpVXknDJ",
        "colab_type": "text"
      },
      "source": [
        "**Countries with Lowest Happiness Score Region wise**"
      ]
    },
    {
      "cell_type": "code",
      "metadata": {
        "id": "_n4RzIGwrTT9",
        "colab_type": "code",
        "outputId": "cf8e7462-2153-48a2-c999-4b4150a471fa",
        "colab": {
          "base_uri": "https://localhost:8080/",
          "height": 238
        }
      },
      "source": [
        "print(\"Countries with Lowest Happiness Score Region wise\\n\\n\",e)"
      ],
      "execution_count": 72,
      "outputs": [
        {
          "output_type": "stream",
          "text": [
            "Countries with Lowest Happiness Score Region wise\n",
            "\n",
            "                             Region      Country  Happiness Score\n",
            "0        Australia and New Zealand    Australia            7.284\n",
            "1       Central and Eastern Europe      Albania            4.218\n",
            "2                     Eastern Asia        China            4.874\n",
            "3      Latin America and Caribbean    Argentina            4.518\n",
            "4  Middle East and Northern Africa      Algeria            3.006\n",
            "5                    North America       Canada            7.119\n",
            "6                Southeastern Asia     Cambodia            3.819\n",
            "7                    Southern Asia  Afghanistan            3.575\n",
            "8               Sub-Saharan Africa       Angola            2.839\n",
            "9                   Western Europe      Austria            4.857\n"
          ],
          "name": "stdout"
        }
      ]
    },
    {
      "cell_type": "code",
      "metadata": {
        "id": "D99aLiqTrg0g",
        "colab_type": "code",
        "outputId": "be0994a8-b170-4d1b-931c-ece03f5f4872",
        "colab": {
          "base_uri": "https://localhost:8080/",
          "height": 419
        }
      },
      "source": [
        "data2015[['Country','Happiness Score']]"
      ],
      "execution_count": 73,
      "outputs": [
        {
          "output_type": "execute_result",
          "data": {
            "text/html": [
              "<div>\n",
              "<style scoped>\n",
              "    .dataframe tbody tr th:only-of-type {\n",
              "        vertical-align: middle;\n",
              "    }\n",
              "\n",
              "    .dataframe tbody tr th {\n",
              "        vertical-align: top;\n",
              "    }\n",
              "\n",
              "    .dataframe thead th {\n",
              "        text-align: right;\n",
              "    }\n",
              "</style>\n",
              "<table border=\"1\" class=\"dataframe\">\n",
              "  <thead>\n",
              "    <tr style=\"text-align: right;\">\n",
              "      <th></th>\n",
              "      <th>Country</th>\n",
              "      <th>Happiness Score</th>\n",
              "    </tr>\n",
              "  </thead>\n",
              "  <tbody>\n",
              "    <tr>\n",
              "      <th>0</th>\n",
              "      <td>Switzerland</td>\n",
              "      <td>7.587</td>\n",
              "    </tr>\n",
              "    <tr>\n",
              "      <th>1</th>\n",
              "      <td>Iceland</td>\n",
              "      <td>7.561</td>\n",
              "    </tr>\n",
              "    <tr>\n",
              "      <th>2</th>\n",
              "      <td>Denmark</td>\n",
              "      <td>7.527</td>\n",
              "    </tr>\n",
              "    <tr>\n",
              "      <th>3</th>\n",
              "      <td>Norway</td>\n",
              "      <td>7.522</td>\n",
              "    </tr>\n",
              "    <tr>\n",
              "      <th>4</th>\n",
              "      <td>Canada</td>\n",
              "      <td>7.427</td>\n",
              "    </tr>\n",
              "    <tr>\n",
              "      <th>...</th>\n",
              "      <td>...</td>\n",
              "      <td>...</td>\n",
              "    </tr>\n",
              "    <tr>\n",
              "      <th>153</th>\n",
              "      <td>Rwanda</td>\n",
              "      <td>3.465</td>\n",
              "    </tr>\n",
              "    <tr>\n",
              "      <th>154</th>\n",
              "      <td>Benin</td>\n",
              "      <td>3.340</td>\n",
              "    </tr>\n",
              "    <tr>\n",
              "      <th>155</th>\n",
              "      <td>Syria</td>\n",
              "      <td>3.006</td>\n",
              "    </tr>\n",
              "    <tr>\n",
              "      <th>156</th>\n",
              "      <td>Burundi</td>\n",
              "      <td>2.905</td>\n",
              "    </tr>\n",
              "    <tr>\n",
              "      <th>157</th>\n",
              "      <td>Togo</td>\n",
              "      <td>2.839</td>\n",
              "    </tr>\n",
              "  </tbody>\n",
              "</table>\n",
              "<p>158 rows × 2 columns</p>\n",
              "</div>"
            ],
            "text/plain": [
              "         Country  Happiness Score\n",
              "0    Switzerland            7.587\n",
              "1        Iceland            7.561\n",
              "2        Denmark            7.527\n",
              "3         Norway            7.522\n",
              "4         Canada            7.427\n",
              "..           ...              ...\n",
              "153       Rwanda            3.465\n",
              "154        Benin            3.340\n",
              "155        Syria            3.006\n",
              "156      Burundi            2.905\n",
              "157         Togo            2.839\n",
              "\n",
              "[158 rows x 2 columns]"
            ]
          },
          "metadata": {
            "tags": []
          },
          "execution_count": 73
        }
      ]
    },
    {
      "cell_type": "code",
      "metadata": {
        "id": "H26paLUvyTLr",
        "colab_type": "code",
        "outputId": "7a5da64c-9e8d-4491-ec5e-4abcf5fc0cd4",
        "colab": {
          "base_uri": "https://localhost:8080/",
          "height": 419
        }
      },
      "source": [
        "data2017[['Country','Happiness Score']]"
      ],
      "execution_count": 74,
      "outputs": [
        {
          "output_type": "execute_result",
          "data": {
            "text/html": [
              "<div>\n",
              "<style scoped>\n",
              "    .dataframe tbody tr th:only-of-type {\n",
              "        vertical-align: middle;\n",
              "    }\n",
              "\n",
              "    .dataframe tbody tr th {\n",
              "        vertical-align: top;\n",
              "    }\n",
              "\n",
              "    .dataframe thead th {\n",
              "        text-align: right;\n",
              "    }\n",
              "</style>\n",
              "<table border=\"1\" class=\"dataframe\">\n",
              "  <thead>\n",
              "    <tr style=\"text-align: right;\">\n",
              "      <th></th>\n",
              "      <th>Country</th>\n",
              "      <th>Happiness Score</th>\n",
              "    </tr>\n",
              "  </thead>\n",
              "  <tbody>\n",
              "    <tr>\n",
              "      <th>0</th>\n",
              "      <td>Norway</td>\n",
              "      <td>7.537</td>\n",
              "    </tr>\n",
              "    <tr>\n",
              "      <th>1</th>\n",
              "      <td>Denmark</td>\n",
              "      <td>7.522</td>\n",
              "    </tr>\n",
              "    <tr>\n",
              "      <th>2</th>\n",
              "      <td>Iceland</td>\n",
              "      <td>7.504</td>\n",
              "    </tr>\n",
              "    <tr>\n",
              "      <th>3</th>\n",
              "      <td>Switzerland</td>\n",
              "      <td>7.494</td>\n",
              "    </tr>\n",
              "    <tr>\n",
              "      <th>4</th>\n",
              "      <td>Finland</td>\n",
              "      <td>7.469</td>\n",
              "    </tr>\n",
              "    <tr>\n",
              "      <th>...</th>\n",
              "      <td>...</td>\n",
              "      <td>...</td>\n",
              "    </tr>\n",
              "    <tr>\n",
              "      <th>150</th>\n",
              "      <td>Rwanda</td>\n",
              "      <td>3.471</td>\n",
              "    </tr>\n",
              "    <tr>\n",
              "      <th>151</th>\n",
              "      <td>Syria</td>\n",
              "      <td>3.462</td>\n",
              "    </tr>\n",
              "    <tr>\n",
              "      <th>152</th>\n",
              "      <td>Tanzania</td>\n",
              "      <td>3.349</td>\n",
              "    </tr>\n",
              "    <tr>\n",
              "      <th>153</th>\n",
              "      <td>Burundi</td>\n",
              "      <td>2.905</td>\n",
              "    </tr>\n",
              "    <tr>\n",
              "      <th>154</th>\n",
              "      <td>Central African Republic</td>\n",
              "      <td>2.693</td>\n",
              "    </tr>\n",
              "  </tbody>\n",
              "</table>\n",
              "<p>155 rows × 2 columns</p>\n",
              "</div>"
            ],
            "text/plain": [
              "                      Country  Happiness Score\n",
              "0                      Norway            7.537\n",
              "1                     Denmark            7.522\n",
              "2                     Iceland            7.504\n",
              "3                 Switzerland            7.494\n",
              "4                     Finland            7.469\n",
              "..                        ...              ...\n",
              "150                    Rwanda            3.471\n",
              "151                     Syria            3.462\n",
              "152                  Tanzania            3.349\n",
              "153                   Burundi            2.905\n",
              "154  Central African Republic            2.693\n",
              "\n",
              "[155 rows x 2 columns]"
            ]
          },
          "metadata": {
            "tags": []
          },
          "execution_count": 74
        }
      ]
    },
    {
      "cell_type": "code",
      "metadata": {
        "id": "431AmeWWUFn0",
        "colab_type": "code",
        "outputId": "41ad538f-33e8-4a41-f03d-a9934f4d13f4",
        "colab": {
          "base_uri": "https://localhost:8080/",
          "height": 360
        }
      },
      "source": [
        "data2015=pd.read_csv(\"2015.csv\")\n",
        "data2017=pd.read_csv(\"2017.csv\")\n",
        "data2015.head()"
      ],
      "execution_count": 75,
      "outputs": [
        {
          "output_type": "execute_result",
          "data": {
            "text/html": [
              "<div>\n",
              "<style scoped>\n",
              "    .dataframe tbody tr th:only-of-type {\n",
              "        vertical-align: middle;\n",
              "    }\n",
              "\n",
              "    .dataframe tbody tr th {\n",
              "        vertical-align: top;\n",
              "    }\n",
              "\n",
              "    .dataframe thead th {\n",
              "        text-align: right;\n",
              "    }\n",
              "</style>\n",
              "<table border=\"1\" class=\"dataframe\">\n",
              "  <thead>\n",
              "    <tr style=\"text-align: right;\">\n",
              "      <th></th>\n",
              "      <th>Country</th>\n",
              "      <th>Region</th>\n",
              "      <th>Happiness Rank</th>\n",
              "      <th>Happiness Score</th>\n",
              "      <th>Standard Error</th>\n",
              "      <th>Economy (GDP per Capita)</th>\n",
              "      <th>Family</th>\n",
              "      <th>Health (Life Expectancy)</th>\n",
              "      <th>Freedom</th>\n",
              "      <th>Trust (Government Corruption)</th>\n",
              "      <th>Generosity</th>\n",
              "      <th>Dystopia Residual</th>\n",
              "    </tr>\n",
              "  </thead>\n",
              "  <tbody>\n",
              "    <tr>\n",
              "      <th>0</th>\n",
              "      <td>Switzerland</td>\n",
              "      <td>Western Europe</td>\n",
              "      <td>1</td>\n",
              "      <td>7.587</td>\n",
              "      <td>0.03411</td>\n",
              "      <td>1.39651</td>\n",
              "      <td>1.34951</td>\n",
              "      <td>0.94143</td>\n",
              "      <td>0.66557</td>\n",
              "      <td>0.41978</td>\n",
              "      <td>0.29678</td>\n",
              "      <td>2.51738</td>\n",
              "    </tr>\n",
              "    <tr>\n",
              "      <th>1</th>\n",
              "      <td>Iceland</td>\n",
              "      <td>Western Europe</td>\n",
              "      <td>2</td>\n",
              "      <td>7.561</td>\n",
              "      <td>0.04884</td>\n",
              "      <td>1.30232</td>\n",
              "      <td>1.40223</td>\n",
              "      <td>0.94784</td>\n",
              "      <td>0.62877</td>\n",
              "      <td>0.14145</td>\n",
              "      <td>0.43630</td>\n",
              "      <td>2.70201</td>\n",
              "    </tr>\n",
              "    <tr>\n",
              "      <th>2</th>\n",
              "      <td>Denmark</td>\n",
              "      <td>Western Europe</td>\n",
              "      <td>3</td>\n",
              "      <td>7.527</td>\n",
              "      <td>0.03328</td>\n",
              "      <td>1.32548</td>\n",
              "      <td>1.36058</td>\n",
              "      <td>0.87464</td>\n",
              "      <td>0.64938</td>\n",
              "      <td>0.48357</td>\n",
              "      <td>0.34139</td>\n",
              "      <td>2.49204</td>\n",
              "    </tr>\n",
              "    <tr>\n",
              "      <th>3</th>\n",
              "      <td>Norway</td>\n",
              "      <td>Western Europe</td>\n",
              "      <td>4</td>\n",
              "      <td>7.522</td>\n",
              "      <td>0.03880</td>\n",
              "      <td>1.45900</td>\n",
              "      <td>1.33095</td>\n",
              "      <td>0.88521</td>\n",
              "      <td>0.66973</td>\n",
              "      <td>0.36503</td>\n",
              "      <td>0.34699</td>\n",
              "      <td>2.46531</td>\n",
              "    </tr>\n",
              "    <tr>\n",
              "      <th>4</th>\n",
              "      <td>Canada</td>\n",
              "      <td>North America</td>\n",
              "      <td>5</td>\n",
              "      <td>7.427</td>\n",
              "      <td>0.03553</td>\n",
              "      <td>1.32629</td>\n",
              "      <td>1.32261</td>\n",
              "      <td>0.90563</td>\n",
              "      <td>0.63297</td>\n",
              "      <td>0.32957</td>\n",
              "      <td>0.45811</td>\n",
              "      <td>2.45176</td>\n",
              "    </tr>\n",
              "  </tbody>\n",
              "</table>\n",
              "</div>"
            ],
            "text/plain": [
              "       Country          Region  ...  Generosity  Dystopia Residual\n",
              "0  Switzerland  Western Europe  ...     0.29678            2.51738\n",
              "1      Iceland  Western Europe  ...     0.43630            2.70201\n",
              "2      Denmark  Western Europe  ...     0.34139            2.49204\n",
              "3       Norway  Western Europe  ...     0.34699            2.46531\n",
              "4       Canada   North America  ...     0.45811            2.45176\n",
              "\n",
              "[5 rows x 12 columns]"
            ]
          },
          "metadata": {
            "tags": []
          },
          "execution_count": 75
        }
      ]
    },
    {
      "cell_type": "code",
      "metadata": {
        "id": "1CDQ57e0V2V9",
        "colab_type": "code",
        "colab": {}
      },
      "source": [
        "data2017.rename(columns={'Happiness.Rank':'Happiness Rank',\n",
        "                         'Happiness.Score':'Happiness Score',\n",
        "                         'Economy..GDP.per.Capita.':'Economy (GDP per Capita)',\n",
        "                         'Health..Life.Expectancy.':'Health (Life Expectancy)',\n",
        "                         'Trust..Government.Corruption.':'Trust (Government Corruption)',\n",
        "                         'Dystopia.Residual':'Dystopia Residual'},inplace=True)"
      ],
      "execution_count": 0,
      "outputs": []
    },
    {
      "cell_type": "code",
      "metadata": {
        "id": "QOfh8za4WBZ-",
        "colab_type": "code",
        "outputId": "64d525ed-ef92-42ca-e6af-2fa2be5774a5",
        "colab": {
          "base_uri": "https://localhost:8080/",
          "height": 275
        }
      },
      "source": [
        "data2017.head()\n"
      ],
      "execution_count": 77,
      "outputs": [
        {
          "output_type": "execute_result",
          "data": {
            "text/html": [
              "<div>\n",
              "<style scoped>\n",
              "    .dataframe tbody tr th:only-of-type {\n",
              "        vertical-align: middle;\n",
              "    }\n",
              "\n",
              "    .dataframe tbody tr th {\n",
              "        vertical-align: top;\n",
              "    }\n",
              "\n",
              "    .dataframe thead th {\n",
              "        text-align: right;\n",
              "    }\n",
              "</style>\n",
              "<table border=\"1\" class=\"dataframe\">\n",
              "  <thead>\n",
              "    <tr style=\"text-align: right;\">\n",
              "      <th></th>\n",
              "      <th>Country</th>\n",
              "      <th>Happiness Rank</th>\n",
              "      <th>Happiness Score</th>\n",
              "      <th>Whisker.high</th>\n",
              "      <th>Whisker.low</th>\n",
              "      <th>Economy (GDP per Capita)</th>\n",
              "      <th>Family</th>\n",
              "      <th>Health (Life Expectancy)</th>\n",
              "      <th>Freedom</th>\n",
              "      <th>Generosity</th>\n",
              "      <th>Trust (Government Corruption)</th>\n",
              "      <th>Dystopia Residual</th>\n",
              "    </tr>\n",
              "  </thead>\n",
              "  <tbody>\n",
              "    <tr>\n",
              "      <th>0</th>\n",
              "      <td>Norway</td>\n",
              "      <td>1</td>\n",
              "      <td>7.537</td>\n",
              "      <td>7.594445</td>\n",
              "      <td>7.479556</td>\n",
              "      <td>1.616463</td>\n",
              "      <td>1.533524</td>\n",
              "      <td>0.796667</td>\n",
              "      <td>0.635423</td>\n",
              "      <td>0.362012</td>\n",
              "      <td>0.315964</td>\n",
              "      <td>2.277027</td>\n",
              "    </tr>\n",
              "    <tr>\n",
              "      <th>1</th>\n",
              "      <td>Denmark</td>\n",
              "      <td>2</td>\n",
              "      <td>7.522</td>\n",
              "      <td>7.581728</td>\n",
              "      <td>7.462272</td>\n",
              "      <td>1.482383</td>\n",
              "      <td>1.551122</td>\n",
              "      <td>0.792566</td>\n",
              "      <td>0.626007</td>\n",
              "      <td>0.355280</td>\n",
              "      <td>0.400770</td>\n",
              "      <td>2.313707</td>\n",
              "    </tr>\n",
              "    <tr>\n",
              "      <th>2</th>\n",
              "      <td>Iceland</td>\n",
              "      <td>3</td>\n",
              "      <td>7.504</td>\n",
              "      <td>7.622030</td>\n",
              "      <td>7.385970</td>\n",
              "      <td>1.480633</td>\n",
              "      <td>1.610574</td>\n",
              "      <td>0.833552</td>\n",
              "      <td>0.627163</td>\n",
              "      <td>0.475540</td>\n",
              "      <td>0.153527</td>\n",
              "      <td>2.322715</td>\n",
              "    </tr>\n",
              "    <tr>\n",
              "      <th>3</th>\n",
              "      <td>Switzerland</td>\n",
              "      <td>4</td>\n",
              "      <td>7.494</td>\n",
              "      <td>7.561772</td>\n",
              "      <td>7.426227</td>\n",
              "      <td>1.564980</td>\n",
              "      <td>1.516912</td>\n",
              "      <td>0.858131</td>\n",
              "      <td>0.620071</td>\n",
              "      <td>0.290549</td>\n",
              "      <td>0.367007</td>\n",
              "      <td>2.276716</td>\n",
              "    </tr>\n",
              "    <tr>\n",
              "      <th>4</th>\n",
              "      <td>Finland</td>\n",
              "      <td>5</td>\n",
              "      <td>7.469</td>\n",
              "      <td>7.527542</td>\n",
              "      <td>7.410458</td>\n",
              "      <td>1.443572</td>\n",
              "      <td>1.540247</td>\n",
              "      <td>0.809158</td>\n",
              "      <td>0.617951</td>\n",
              "      <td>0.245483</td>\n",
              "      <td>0.382612</td>\n",
              "      <td>2.430182</td>\n",
              "    </tr>\n",
              "  </tbody>\n",
              "</table>\n",
              "</div>"
            ],
            "text/plain": [
              "       Country  ...  Dystopia Residual\n",
              "0       Norway  ...           2.277027\n",
              "1      Denmark  ...           2.313707\n",
              "2      Iceland  ...           2.322715\n",
              "3  Switzerland  ...           2.276716\n",
              "4      Finland  ...           2.430182\n",
              "\n",
              "[5 rows x 12 columns]"
            ]
          },
          "metadata": {
            "tags": []
          },
          "execution_count": 77
        }
      ]
    },
    {
      "cell_type": "code",
      "metadata": {
        "id": "Qh2mkjxJXNEK",
        "colab_type": "code",
        "colab": {}
      },
      "source": [
        "data2015.drop('Region',inplace=True,axis=1)"
      ],
      "execution_count": 0,
      "outputs": []
    },
    {
      "cell_type": "code",
      "metadata": {
        "id": "u0X3hrQNNWu2",
        "colab_type": "code",
        "colab": {}
      },
      "source": [
        "new_data=data2015.merge(data2017,on=\"Country\",how=\"inner\",sort=True)"
      ],
      "execution_count": 0,
      "outputs": []
    },
    {
      "cell_type": "markdown",
      "metadata": {
        "id": "5WvqnucuksVb",
        "colab_type": "text"
      },
      "source": [
        "Check"
      ]
    },
    {
      "cell_type": "code",
      "metadata": {
        "id": "170jiOTSW9fS",
        "colab_type": "code",
        "outputId": "064c3644-ac6b-4778-f50b-96e8818bf2ee",
        "colab": {
          "base_uri": "https://localhost:8080/",
          "height": 134
        }
      },
      "source": [
        "new_data.head()\n",
        "new_data[new_data['Country']=='Benin']"
      ],
      "execution_count": 80,
      "outputs": [
        {
          "output_type": "execute_result",
          "data": {
            "text/html": [
              "<div>\n",
              "<style scoped>\n",
              "    .dataframe tbody tr th:only-of-type {\n",
              "        vertical-align: middle;\n",
              "    }\n",
              "\n",
              "    .dataframe tbody tr th {\n",
              "        vertical-align: top;\n",
              "    }\n",
              "\n",
              "    .dataframe thead th {\n",
              "        text-align: right;\n",
              "    }\n",
              "</style>\n",
              "<table border=\"1\" class=\"dataframe\">\n",
              "  <thead>\n",
              "    <tr style=\"text-align: right;\">\n",
              "      <th></th>\n",
              "      <th>Country</th>\n",
              "      <th>Happiness Rank_x</th>\n",
              "      <th>Happiness Score_x</th>\n",
              "      <th>Standard Error</th>\n",
              "      <th>Economy (GDP per Capita)_x</th>\n",
              "      <th>Family_x</th>\n",
              "      <th>Health (Life Expectancy)_x</th>\n",
              "      <th>Freedom_x</th>\n",
              "      <th>Trust (Government Corruption)_x</th>\n",
              "      <th>Generosity_x</th>\n",
              "      <th>Dystopia Residual_x</th>\n",
              "      <th>Happiness Rank_y</th>\n",
              "      <th>Happiness Score_y</th>\n",
              "      <th>Whisker.high</th>\n",
              "      <th>Whisker.low</th>\n",
              "      <th>Economy (GDP per Capita)_y</th>\n",
              "      <th>Family_y</th>\n",
              "      <th>Health (Life Expectancy)_y</th>\n",
              "      <th>Freedom_y</th>\n",
              "      <th>Generosity_y</th>\n",
              "      <th>Trust (Government Corruption)_y</th>\n",
              "      <th>Dystopia Residual_y</th>\n",
              "    </tr>\n",
              "  </thead>\n",
              "  <tbody>\n",
              "    <tr>\n",
              "      <th>13</th>\n",
              "      <td>Benin</td>\n",
              "      <td>155</td>\n",
              "      <td>3.34</td>\n",
              "      <td>0.03656</td>\n",
              "      <td>0.28665</td>\n",
              "      <td>0.35386</td>\n",
              "      <td>0.3191</td>\n",
              "      <td>0.4845</td>\n",
              "      <td>0.0801</td>\n",
              "      <td>0.1826</td>\n",
              "      <td>1.63328</td>\n",
              "      <td>143</td>\n",
              "      <td>3.657</td>\n",
              "      <td>3.745784</td>\n",
              "      <td>3.568217</td>\n",
              "      <td>0.431085</td>\n",
              "      <td>0.4353</td>\n",
              "      <td>0.20993</td>\n",
              "      <td>0.425963</td>\n",
              "      <td>0.207948</td>\n",
              "      <td>0.060929</td>\n",
              "      <td>1.885631</td>\n",
              "    </tr>\n",
              "  </tbody>\n",
              "</table>\n",
              "</div>"
            ],
            "text/plain": [
              "   Country  ...  Dystopia Residual_y\n",
              "13   Benin  ...             1.885631\n",
              "\n",
              "[1 rows x 22 columns]"
            ]
          },
          "metadata": {
            "tags": []
          },
          "execution_count": 80
        }
      ]
    },
    {
      "cell_type": "markdown",
      "metadata": {
        "id": "z0naetW7fAZx",
        "colab_type": "text"
      },
      "source": [
        "**COUNTRIES WHO BECAME UNHAPPY**"
      ]
    },
    {
      "cell_type": "code",
      "metadata": {
        "id": "EQ3wFb2cUhFQ",
        "colab_type": "code",
        "outputId": "e2e85fbf-00ce-49f8-e70f-307d8299f6f2",
        "colab": {
          "base_uri": "https://localhost:8080/",
          "height": 272
        }
      },
      "source": [
        "differ=new_data['Happiness Score_x']-new_data['Happiness Score_y']\n",
        "new_data['Difference']=differ\n",
        "print('Countries who became unhappy\\n\\n')\n",
        "new_data[new_data['Difference']<0]['Country']"
      ],
      "execution_count": 81,
      "outputs": [
        {
          "output_type": "stream",
          "text": [
            "Countries who became unhappy\n",
            "\n",
            "\n"
          ],
          "name": "stdout"
        },
        {
          "output_type": "execute_result",
          "data": {
            "text/plain": [
              "0              Afghanistan\n",
              "2                  Algeria\n",
              "4                Argentina\n",
              "5                  Armenia\n",
              "8               Azerbaijan\n",
              "              ...         \n",
              "133    Trinidad and Tobago\n",
              "134                Tunisia\n",
              "135                 Turkey\n",
              "136           Turkmenistan\n",
              "137                 Uganda\n",
              "Name: Country, Length: 74, dtype: object"
            ]
          },
          "metadata": {
            "tags": []
          },
          "execution_count": 81
        }
      ]
    },
    {
      "cell_type": "code",
      "metadata": {
        "id": "n9PBd4l1U1xY",
        "colab_type": "code",
        "colab": {}
      },
      "source": [
        "minn=new_data['Difference'].min()"
      ],
      "execution_count": 0,
      "outputs": []
    },
    {
      "cell_type": "code",
      "metadata": {
        "id": "g1NlkgmOaoHv",
        "colab_type": "code",
        "outputId": "3aee04f6-be31-494e-d4f3-20d81bd4f82b",
        "colab": {
          "base_uri": "https://localhost:8080/",
          "height": 51
        }
      },
      "source": [
        "new_data[new_data['Difference']==minn]['Country']"
      ],
      "execution_count": 83,
      "outputs": [
        {
          "output_type": "execute_result",
          "data": {
            "text/plain": [
              "72    Latvia\n",
              "Name: Country, dtype: object"
            ]
          },
          "metadata": {
            "tags": []
          },
          "execution_count": 83
        }
      ]
    },
    {
      "cell_type": "markdown",
      "metadata": {
        "id": "cn9mNcvXfcvO",
        "colab_type": "text"
      },
      "source": [
        "**Happiness Decreased by most amount**"
      ]
    },
    {
      "cell_type": "code",
      "metadata": {
        "id": "PW2fY3v6b5gw",
        "colab_type": "code",
        "outputId": "85162f85-5ff9-4ad3-8513-62b0cc35aec1",
        "colab": {
          "base_uri": "https://localhost:8080/",
          "height": 425
        }
      },
      "source": [
        "new_data.loc[72]"
      ],
      "execution_count": 84,
      "outputs": [
        {
          "output_type": "execute_result",
          "data": {
            "text/plain": [
              "Country                               Latvia\n",
              "Happiness Rank_x                          89\n",
              "Happiness Score_x                      5.098\n",
              "Standard Error                        0.0464\n",
              "Economy (GDP per Capita)_x           1.11312\n",
              "Family_x                             1.09562\n",
              "Health (Life Expectancy)_x           0.72437\n",
              "Freedom_x                            0.29671\n",
              "Trust (Government Corruption)_x      0.06332\n",
              "Generosity_x                         0.18226\n",
              "Dystopia Residual_x                  1.62215\n",
              "Happiness Rank_y                          54\n",
              "Happiness Score_y                       5.85\n",
              "Whisker.high                         5.92026\n",
              "Whisker.low                          5.77974\n",
              "Economy (GDP per Capita)_y           1.26075\n",
              "Family_y                             1.40471\n",
              "Health (Life Expectancy)_y          0.638567\n",
              "Freedom_y                           0.325708\n",
              "Generosity_y                        0.153075\n",
              "Trust (Government Corruption)_y    0.0738427\n",
              "Dystopia Residual_y                  1.99366\n",
              "Difference                            -0.752\n",
              "Name: 72, dtype: object"
            ]
          },
          "metadata": {
            "tags": []
          },
          "execution_count": 84
        }
      ]
    },
    {
      "cell_type": "markdown",
      "metadata": {
        "id": "Qb7nhWYDdLqW",
        "colab_type": "text"
      },
      "source": [
        "# Task2\n",
        "**script to download to training set**"
      ]
    },
    {
      "cell_type": "code",
      "metadata": {
        "id": "efy9a8Z85BNj",
        "colab_type": "code",
        "outputId": "d8799f35-e91a-47ee-a5be-29fd50520f03",
        "colab": {
          "base_uri": "https://localhost:8080/",
          "height": 219
        }
      },
      "source": [
        "#retrieving the data from the server\n",
        "!wget \"https://www.crcv.ucf.edu/data/UCF101/UCF101.rar\""
      ],
      "execution_count": 0,
      "outputs": [
        {
          "output_type": "stream",
          "text": [
            "--2020-05-10 15:41:39--  https://www.crcv.ucf.edu/data/UCF101/UCF101.rar\n",
            "Resolving www.crcv.ucf.edu (www.crcv.ucf.edu)... 132.170.214.127\n",
            "Connecting to www.crcv.ucf.edu (www.crcv.ucf.edu)|132.170.214.127|:443... connected.\n",
            "HTTP request sent, awaiting response... 200 OK\n",
            "Length: 6932971618 (6.5G) [application/rar]\n",
            "Saving to: ‘UCF101.rar’\n",
            "\n",
            "UCF101.rar          100%[===================>]   6.46G  15.0MB/s    in 7m 24s  \n",
            "\n",
            "2020-05-10 15:49:04 (14.9 MB/s) - ‘UCF101.rar’ saved [6932971618/6932971618]\n",
            "\n"
          ],
          "name": "stdout"
        }
      ]
    },
    {
      "cell_type": "code",
      "metadata": {
        "id": "GvIEXa-dVAXS",
        "colab_type": "code",
        "colab": {}
      },
      "source": [
        "#unzipping the rar file\n",
        "!unrar x UCF101.rar"
      ],
      "execution_count": 0,
      "outputs": []
    },
    {
      "cell_type": "code",
      "metadata": {
        "id": "UkbB5buLVEki",
        "colab_type": "code",
        "colab": {}
      },
      "source": [
        "#moving the contents of rar file one folder up\n",
        "!mv -f UCF-101/* /content"
      ],
      "execution_count": 0,
      "outputs": []
    },
    {
      "cell_type": "code",
      "metadata": {
        "id": "VfciNlIObh10",
        "colab_type": "code",
        "colab": {}
      },
      "source": [
        "#removing the rar file\n",
        "!rm UCF101.rar"
      ],
      "execution_count": 0,
      "outputs": []
    }
  ]
}