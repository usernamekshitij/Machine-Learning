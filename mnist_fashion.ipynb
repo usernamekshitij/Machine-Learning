{
  "nbformat": 4,
  "nbformat_minor": 0,
  "metadata": {
    "colab": {
      "name": "mnist fashion.ipynb",
      "provenance": [],
      "collapsed_sections": []
    },
    "kernelspec": {
      "name": "python3",
      "display_name": "Python 3"
    }
  },
  "cells": [
    {
      "cell_type": "code",
      "metadata": {
        "id": "JvzfnLjriYaT",
        "colab_type": "code",
        "outputId": "74ef419b-119d-482f-a509-860ee70163d6",
        "colab": {
          "base_uri": "https://localhost:8080/",
          "height": 204
        }
      },
      "source": [
        "pip install kaggle"
      ],
      "execution_count": 0,
      "outputs": [
        {
          "output_type": "stream",
          "text": [
            "Requirement already satisfied: kaggle in /usr/local/lib/python3.6/dist-packages (1.5.6)\n",
            "Requirement already satisfied: tqdm in /usr/local/lib/python3.6/dist-packages (from kaggle) (4.38.0)\n",
            "Requirement already satisfied: six>=1.10 in /usr/local/lib/python3.6/dist-packages (from kaggle) (1.12.0)\n",
            "Requirement already satisfied: requests in /usr/local/lib/python3.6/dist-packages (from kaggle) (2.21.0)\n",
            "Requirement already satisfied: python-slugify in /usr/local/lib/python3.6/dist-packages (from kaggle) (4.0.0)\n",
            "Requirement already satisfied: urllib3<1.25,>=1.21.1 in /usr/local/lib/python3.6/dist-packages (from kaggle) (1.24.3)\n",
            "Requirement already satisfied: python-dateutil in /usr/local/lib/python3.6/dist-packages (from kaggle) (2.8.1)\n",
            "Requirement already satisfied: certifi in /usr/local/lib/python3.6/dist-packages (from kaggle) (2020.4.5.1)\n",
            "Requirement already satisfied: chardet<3.1.0,>=3.0.2 in /usr/local/lib/python3.6/dist-packages (from requests->kaggle) (3.0.4)\n",
            "Requirement already satisfied: idna<2.9,>=2.5 in /usr/local/lib/python3.6/dist-packages (from requests->kaggle) (2.8)\n",
            "Requirement already satisfied: text-unidecode>=1.3 in /usr/local/lib/python3.6/dist-packages (from python-slugify->kaggle) (1.3)\n"
          ],
          "name": "stdout"
        }
      ]
    },
    {
      "cell_type": "code",
      "metadata": {
        "id": "bfNQOmlTctta",
        "colab_type": "code",
        "colab": {}
      },
      "source": [
        "from google.colab import files\n",
        "files.upload()"
      ],
      "execution_count": 0,
      "outputs": []
    },
    {
      "cell_type": "code",
      "metadata": {
        "id": "mPEFWh6lcyiU",
        "colab_type": "code",
        "colab": {}
      },
      "source": [
        "!mkdir -p ~/.kaggle\n",
        "!cp kaggle.json ~/.kaggle/\n",
        "!chmod 600 ~/.kaggle/kaggle.json"
      ],
      "execution_count": 0,
      "outputs": []
    },
    {
      "cell_type": "code",
      "metadata": {
        "id": "InBIzkxyc5nn",
        "colab_type": "code",
        "colab": {}
      },
      "source": [
        "!kaggle datasets download -d zalando-research/fashionmnist"
      ],
      "execution_count": 0,
      "outputs": []
    },
    {
      "cell_type": "code",
      "metadata": {
        "id": "E8AqetPZdEKY",
        "colab_type": "code",
        "colab": {}
      },
      "source": [
        "from zipfile import ZipFile\n",
        "with ZipFile(\"fashionmnist.zip\",'r') as zip:\n",
        "  x=zip.extractall()"
      ],
      "execution_count": 0,
      "outputs": []
    },
    {
      "cell_type": "code",
      "metadata": {
        "id": "E4XCNRvmdNMH",
        "colab_type": "code",
        "colab": {}
      },
      "source": [
        "import numpy as np\n",
        "import pandas as pd\n",
        "train=np.loadtxt('fashion-mnist_train.csv',delimiter=',',skiprows=1)[:,1:]"
      ],
      "execution_count": 0,
      "outputs": []
    },
    {
      "cell_type": "code",
      "metadata": {
        "id": "zpMd98GxgWRY",
        "colab_type": "code",
        "outputId": "ac4a35c6-8314-479e-a5f1-be7303cbde93",
        "colab": {
          "base_uri": "https://localhost:8080/",
          "height": 34
        }
      },
      "source": [
        "train.shape"
      ],
      "execution_count": 0,
      "outputs": [
        {
          "output_type": "execute_result",
          "data": {
            "text/plain": [
              "(60000, 784)"
            ]
          },
          "metadata": {
            "tags": []
          },
          "execution_count": 4
        }
      ]
    },
    {
      "cell_type": "code",
      "metadata": {
        "id": "AHYda1YVga4X",
        "colab_type": "code",
        "colab": {}
      },
      "source": [
        "test=np.loadtxt('fashion-mnist_test.csv',delimiter=',',skiprows=1)[:,1:]"
      ],
      "execution_count": 0,
      "outputs": []
    },
    {
      "cell_type": "code",
      "metadata": {
        "id": "UQmCqTc2duCQ",
        "colab_type": "code",
        "outputId": "df52fb4b-88e0-42f8-9909-5dc9e5adc5f2",
        "colab": {
          "base_uri": "https://localhost:8080/",
          "height": 34
        }
      },
      "source": [
        "test.shape"
      ],
      "execution_count": 0,
      "outputs": [
        {
          "output_type": "execute_result",
          "data": {
            "text/plain": [
              "(10000, 784)"
            ]
          },
          "metadata": {
            "tags": []
          },
          "execution_count": 6
        }
      ]
    },
    {
      "cell_type": "code",
      "metadata": {
        "id": "RyMNmQhfe_-3",
        "colab_type": "code",
        "outputId": "74037b4e-cc59-44d0-84fa-ec9d515bfe45",
        "colab": {
          "base_uri": "https://localhost:8080/",
          "height": 34
        }
      },
      "source": [
        "%tensorflow_version 1.x\n",
        "import tensorflow as tf\n",
        "import matplotlib.pyplot as plt\n",
        "import cv2"
      ],
      "execution_count": 0,
      "outputs": [
        {
          "output_type": "stream",
          "text": [
            "TensorFlow 1.x selected.\n"
          ],
          "name": "stdout"
        }
      ]
    },
    {
      "cell_type": "code",
      "metadata": {
        "id": "Zm-aKs30d_aq",
        "colab_type": "code",
        "colab": {}
      },
      "source": [
        "n_input=784\n",
        "n_hidden1=256\n",
        "n_hidden2=32\n",
        "n_hidden3=32\n",
        "n_hidden4=256\n",
        "n_output=784\n"
      ],
      "execution_count": 0,
      "outputs": []
    },
    {
      "cell_type": "code",
      "metadata": {
        "id": "V2JmbaZpekZo",
        "colab_type": "code",
        "colab": {}
      },
      "source": [
        "learning_rate=0.1\n",
        "epochs=100\n",
        "batch_size=100"
      ],
      "execution_count": 0,
      "outputs": []
    },
    {
      "cell_type": "code",
      "metadata": {
        "id": "94XWFsgDerzG",
        "colab_type": "code",
        "colab": {}
      },
      "source": [
        "X=tf.placeholder(tf.float32,shape=(None,n_input))\n",
        "y=tf.placeholder(tf.float32,shape=(None,n_output))"
      ],
      "execution_count": 0,
      "outputs": []
    },
    {
      "cell_type": "code",
      "metadata": {
        "id": "yf8O4a1kgton",
        "colab_type": "code",
        "outputId": "8965a227-7a3f-44cf-f385-ed7e077cd1db",
        "colab": {
          "base_uri": "https://localhost:8080/",
          "height": 139
        }
      },
      "source": [
        "with tf.name_scope('layer'):\n",
        "  hidden1=tf.layers.dense(X,n_hidden1,name=\"hidden1\",activation=tf.nn.relu)\n",
        "  hidden2=tf.layers.dense(hidden1,n_hidden2,name=\"hidden2\",activation=tf.nn.relu)\n",
        "  hidden3=tf.layers.dense(hidden2,n_hidden3,name=\"hidden3\",activation=tf.nn.relu)\n",
        "  hidden4=tf.layers.dense(hidden3,n_hidden4,name=\"hidden4\",activation=tf.nn.relu)\n",
        "  logits=tf.layers.dense(hidden4,n_output,name=\"outputs\")"
      ],
      "execution_count": 0,
      "outputs": [
        {
          "output_type": "stream",
          "text": [
            "WARNING:tensorflow:From <ipython-input-11-3198d9b03b51>:2: dense (from tensorflow.python.layers.core) is deprecated and will be removed in a future version.\n",
            "Instructions for updating:\n",
            "Use keras.layers.Dense instead.\n",
            "WARNING:tensorflow:From /tensorflow-1.15.2/python3.6/tensorflow_core/python/layers/core.py:187: Layer.apply (from tensorflow.python.keras.engine.base_layer) is deprecated and will be removed in a future version.\n",
            "Instructions for updating:\n",
            "Please use `layer.__call__` method instead.\n"
          ],
          "name": "stdout"
        }
      ]
    },
    {
      "cell_type": "code",
      "metadata": {
        "id": "_eoTGgVAe805",
        "colab_type": "code",
        "outputId": "5dcbec28-e576-4c7f-b358-650ad3358101",
        "colab": {
          "base_uri": "https://localhost:8080/",
          "height": 54
        }
      },
      "source": [
        "'''\n",
        "nn_weight={'W1':tf.Variable(tf.truncated_normal([n_input,n_hidden1],stddev=0.1),tf.float32),\n",
        "          'W2':tf.Variable(tf.truncated_normal([n_hidden1,n_hidden2],stddev=0.1)),\n",
        "          'W3':tf.Variable(tf.truncated_normal([n_hidden2,n_hidden3],stddev=0.1)),\n",
        "          'W4':tf.Variable(tf.truncated_normal([n_hidden3,n_hidden4],stddev=0.1)),\n",
        "          'Wout':tf.Variable(tf.truncated_normal([n_hidden4,n_output],stddev=0.1))\n",
        "}\n",
        "\n",
        "nn_bias={'B1':tf.Variable(tf.truncated_normal([n_hidden1]),tf.float32),\n",
        "          'B2':tf.Variable(tf.truncated_normal([n_hidden2])),\n",
        "          'B3':tf.Variable(tf.truncated_normal([n_hidden3])),\n",
        "          'B4':tf.Variable(tf.truncated_normal([n_hidden4])),\n",
        "          'B5':tf.Variable(tf.truncated_normal([n_output]))\n",
        "}'''"
      ],
      "execution_count": 0,
      "outputs": [
        {
          "output_type": "execute_result",
          "data": {
            "text/plain": [
              "\"\\nnn_weight={'W1':tf.Variable(tf.truncated_normal([n_input,n_hidden1],stddev=0.1),tf.float32),\\n          'W2':tf.Variable(tf.truncated_normal([n_hidden1,n_hidden2],stddev=0.1)),\\n          'W3':tf.Variable(tf.truncated_normal([n_hidden2,n_hidden3],stddev=0.1)),\\n          'W4':tf.Variable(tf.truncated_normal([n_hidden3,n_hidden4],stddev=0.1)),\\n          'Wout':tf.Variable(tf.truncated_normal([n_hidden4,n_output],stddev=0.1))\\n}\\n\\nnn_bias={'B1':tf.Variable(tf.truncated_normal([n_hidden1]),tf.float32),\\n          'B2':tf.Variable(tf.truncated_normal([n_hidden2])),\\n          'B3':tf.Variable(tf.truncated_normal([n_hidden3])),\\n          'B4':tf.Variable(tf.truncated_normal([n_hidden4])),\\n          'B5':tf.Variable(tf.truncated_normal([n_output]))\\n}\""
            ]
          },
          "metadata": {
            "tags": []
          },
          "execution_count": 12
        }
      ]
    },
    {
      "cell_type": "code",
      "metadata": {
        "id": "sWVxNDR_fRWZ",
        "colab_type": "code",
        "outputId": "58757f91-95d1-4dc6-c9d2-aff9047bcb7e",
        "colab": {
          "base_uri": "https://localhost:8080/",
          "height": 173
        }
      },
      "source": [
        "with tf.name_scope(\"loss\"):\n",
        "    xentropy = tf.nn.softmax_cross_entropy_with_logits(labels=y, logits=logits)\n",
        "    loss = tf.reduce_mean(xentropy, name=\"loss\")\n",
        "    loss_summary = tf.summary.scalar('log_loss', loss)"
      ],
      "execution_count": 0,
      "outputs": [
        {
          "output_type": "stream",
          "text": [
            "WARNING:tensorflow:From <ipython-input-13-2c24e425daa7>:2: softmax_cross_entropy_with_logits (from tensorflow.python.ops.nn_ops) is deprecated and will be removed in a future version.\n",
            "Instructions for updating:\n",
            "\n",
            "Future major versions of TensorFlow will allow gradients to flow\n",
            "into the labels input on backprop by default.\n",
            "\n",
            "See `tf.nn.softmax_cross_entropy_with_logits_v2`.\n",
            "\n"
          ],
          "name": "stdout"
        }
      ]
    },
    {
      "cell_type": "code",
      "metadata": {
        "id": "dezLPGiFlvch",
        "colab_type": "code",
        "colab": {}
      },
      "source": [
        "training_op=tf.train.GradientDescentOptimizer(learning_rate=learning_rate)\n",
        "optimizer=training_op.minimize(loss)"
      ],
      "execution_count": 0,
      "outputs": []
    },
    {
      "cell_type": "code",
      "metadata": {
        "id": "TOo-wIrMl7nZ",
        "colab_type": "code",
        "colab": {}
      },
      "source": [
        "np.random.shuffle(train)\n",
        "X_train=train\n",
        "X_train_noisy=X_train+(10*np.random.normal(0,1,size=X_train.shape))"
      ],
      "execution_count": 0,
      "outputs": []
    },
    {
      "cell_type": "code",
      "metadata": {
        "id": "jr3Wt52kqF7o",
        "colab_type": "code",
        "outputId": "d1541dc7-2cd8-4c1b-f416-e1373c8fa006",
        "colab": {
          "base_uri": "https://localhost:8080/",
          "height": 282
        }
      },
      "source": [
        "plt.imshow(X_train[0].reshape(28,28),cmap='gray')"
      ],
      "execution_count": 0,
      "outputs": [
        {
          "output_type": "execute_result",
          "data": {
            "text/plain": [
              "<matplotlib.image.AxesImage at 0x7fe8e7821a20>"
            ]
          },
          "metadata": {
            "tags": []
          },
          "execution_count": 19
        },
        {
          "output_type": "display_data",
          "data": {
            "image/png": "[encoded data removed]",
            "text/plain": [
              "<Figure size 432x288 with 1 Axes>"
            ]
          },
          "metadata": {
            "tags": [],
            "needs_background": "light"
          }
        }
      ]
    },
    {
      "cell_type": "code",
      "metadata": {
        "id": "rjceNinMs5Gz",
        "colab_type": "code",
        "outputId": "dc51e91c-92f2-4bfb-c30f-6123076af78a",
        "colab": {
          "base_uri": "https://localhost:8080/",
          "height": 282
        }
      },
      "source": [
        "plt.imshow(X_train_noisy[0].reshape(28,28),cmap='gray')"
      ],
      "execution_count": 0,
      "outputs": [
        {
          "output_type": "execute_result",
          "data": {
            "text/plain": [
              "<matplotlib.image.AxesImage at 0x7fe8e6f9eb70>"
            ]
          },
          "metadata": {
            "tags": []
          },
          "execution_count": 20
        },
        {
          "output_type": "display_data",
          "data": {
            "image/png": "[encoded data removed]",
            "text/plain": [
              "<Figure size 432x288 with 1 Axes>"
            ]
          },
          "metadata": {
            "tags": [],
            "needs_background": "light"
          }
        }
      ]
    },
    {
      "cell_type": "code",
      "metadata": {
        "id": "Wb8GhU48xI4q",
        "colab_type": "code",
        "colab": {}
      },
      "source": [
        "total_num_images=(train.shape[0])\n",
        "init=tf.global_variables_initializer()\n",
        "sess=tf.Session()\n",
        "sess.run(init)\n",
        "\n",
        "\n"
      ],
      "execution_count": 0,
      "outputs": []
    },
    {
      "cell_type": "code",
      "metadata": {
        "id": "qkXqVZ7N3ia_",
        "colab_type": "code",
        "colab": {}
      },
      "source": [
        "for epoch in range(epochs):\n",
        "  for i in range(int(total_num_images/batch_size)):\n",
        "    X_epoch=X_train[i*batch_size:(i+1)*batch_size]\n",
        "    X_noise_epoch=X_train_noisy[i*batch_size:(i+1)*batch_size]\n",
        "    _,loss=sess.run([optimizer,loss],feed_dict={X:X_noise_epoch,y:X_epoch})\n",
        "  print('EPOCH',epoch,'/',epochs,'loss:',loss)\n",
        "\n",
        "\n",
        "\n",
        "\n"
      ],
      "execution_count": 0,
      "outputs": []
    },
    {
      "cell_type": "code",
      "metadata": {
        "id": "51FOA03_02BH",
        "colab_type": "code",
        "colab": {}
      },
      "source": [
        "X_actual=X_train[10]\n",
        "noisy_image=X_train_noisy[10]\n",
        "\n",
        "denoised_image=sess.run(logits,feed_dict={X:noise_image})"
      ],
      "execution_count": 0,
      "outputs": []
    },
    {
      "cell_type": "code",
      "metadata": {
        "id": "s6iAMlw03r_w",
        "colab_type": "code",
        "colab": {}
      },
      "source": [
        "fig,axes=plt.subplots(nrows=3,n_cols=1,sharex=True,sharey=True,figsize=(20,4))\n",
        "for images,row in zip([X_actual,noisy_image,denoised_image],axes):\n",
        "  for img,ax in zip(images,row):\n",
        "    ax.imshow(img.reshape(28,28),cmap='Greys_r')\n",
        "    ax.get_xaxis().set_visible(False)\n",
        "    ax.get_yaxis().set_visible(False)\n",
        "\n",
        "  fig.tight_layout(pad=0.1)"
      ],
      "execution_count": 0,
      "outputs": []
    }
  ]
}